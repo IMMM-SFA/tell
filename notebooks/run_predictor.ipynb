{
 "cells": [
  {
   "cell_type": "markdown",
   "id": "664d3d23-0288-4e33-9f12-07910ef24e3e",
   "metadata": {},
   "source": [
    "## TODO:\n",
    "- extract plotting code into functions that can be called from `tell`\n",
    "- matlab script to Python \n"
   ]
  },
  {
   "cell_type": "code",
   "execution_count": 1,
   "id": "f9f9eb76-806a-475b-8ba2-462379ae6baa",
   "metadata": {},
   "outputs": [],
   "source": [
    "import os\n",
    "\n",
    "import tell\n"
   ]
  },
  {
   "cell_type": "code",
   "execution_count": 2,
   "id": "6797a867-4ff7-40ee-b557-5f645cd33c3c",
   "metadata": {},
   "outputs": [],
   "source": [
    "root_dir = '/Users/d3y010/projects/tell'\n",
    "\n",
    "data_dir = os.path.join(root_dir, 'data', 'WRF_CSV_Files')\n",
    "\n",
    "output_dir = os.path.join(root_dir, 'outputs')\n",
    "\n",
    "# model settings\n",
    "target_ba_list =  None #['FMPP'] # ['FMPP', 'WALC', 'SEC']\n",
    "generate_plots = True\n"
   ]
  },
  {
   "cell_type": "markdown",
   "id": "d8e67afa-0006-4b4f-96a9-3fe16dbb1b91",
   "metadata": {},
   "source": [
    "## Step 1:  Process WRF data to inputs"
   ]
  },
  {
   "cell_type": "code",
   "execution_count": null,
   "id": "c0f4ce4c-e71c-4e7e-b06f-4ed327aed679",
   "metadata": {},
   "outputs": [],
   "source": [
    "# currently in the IM3 components library and other parts in the tell package\n",
    "# TODO:  create tell generalized functionality off of what is going on for WRF\n",
    "\n",
    "df_data = tell.process_inputs()\n"
   ]
  },
  {
   "cell_type": "markdown",
   "id": "46e12441-d447-4828-a7b6-0d931914561a",
   "metadata": {},
   "source": [
    "## Step 2:  Train model"
   ]
  },
  {
   "cell_type": "code",
   "execution_count": null,
   "id": "5fdb6a10-44f2-4b98-ae63-fb958f8c4173",
   "metadata": {},
   "outputs": [],
   "source": [
    "\n",
    "df = tell.train()\n"
   ]
  },
  {
   "cell_type": "markdown",
   "id": "60dbb958-e41e-4936-9cf4-9bf5a4fa6562",
   "metadata": {},
   "source": [
    "## Step 3:  Run model projection"
   ]
  },
  {
   "cell_type": "code",
   "execution_count": null,
   "id": "b01a7c74-d828-4d25-90a4-f17738f5b329",
   "metadata": {},
   "outputs": [],
   "source": [
    "%%time\n",
    "\n",
    "df = tell.predict(data_dir=data_dir,\n",
    "                  out_dir=output_dir,\n",
    "                  target_ba_list=target_ba_list,\n",
    "                  generate_plots=generate_plots)\n",
    "\n"
   ]
  },
  {
   "cell_type": "markdown",
   "id": "1d287564-2017-46d3-bbef-f4a43bafd972",
   "metadata": {},
   "source": [
    "## Step 4 (optional): Analysis and plotting functions"
   ]
  },
  {
   "cell_type": "code",
   "execution_count": null,
   "id": "7216802c-ebd0-4769-9653-ab234963ca55",
   "metadata": {},
   "outputs": [],
   "source": [
    "tell.plot()\n"
   ]
  },
  {
   "cell_type": "code",
   "execution_count": null,
   "id": "9509deef-653e-420d-bf15-d02ebeeadb78",
   "metadata": {},
   "outputs": [],
   "source": []
  },
  {
   "cell_type": "code",
   "execution_count": null,
   "id": "e9a04303-56e6-4035-82a9-14fea54a8c8a",
   "metadata": {},
   "outputs": [],
   "source": []
  },
  {
   "cell_type": "code",
   "execution_count": null,
   "id": "0b46c008-eb5a-47ce-88fd-a53fe184932b",
   "metadata": {},
   "outputs": [],
   "source": []
  },
  {
   "cell_type": "markdown",
   "id": "43cea8d2-833c-4e92-a524-9867421f1b58",
   "metadata": {},
   "source": [
    "## projection of future demand (mwh)"
   ]
  },
  {
   "cell_type": "code",
   "execution_count": 4,
   "id": "fa47f3cb-a449-4445-a1af-9b10b643e8db",
   "metadata": {},
   "outputs": [
    {
     "data": {
      "text/html": [
       "<div>\n",
       "<style scoped>\n",
       "    .dataframe tbody tr th:only-of-type {\n",
       "        vertical-align: middle;\n",
       "    }\n",
       "\n",
       "    .dataframe tbody tr th {\n",
       "        vertical-align: top;\n",
       "    }\n",
       "\n",
       "    .dataframe thead th {\n",
       "        text-align: right;\n",
       "    }\n",
       "</style>\n",
       "<table border=\"1\" class=\"dataframe\">\n",
       "  <thead>\n",
       "    <tr style=\"text-align: right;\">\n",
       "      <th></th>\n",
       "      <th>BA</th>\n",
       "      <th>R2</th>\n",
       "      <th>MAPE</th>\n",
       "    </tr>\n",
       "  </thead>\n",
       "  <tbody>\n",
       "    <tr>\n",
       "      <th>0</th>\n",
       "      <td>FMPP</td>\n",
       "      <td>0.875005</td>\n",
       "      <td>0.081843</td>\n",
       "    </tr>\n",
       "  </tbody>\n",
       "</table>\n",
       "</div>"
      ],
      "text/plain": [
       "     BA        R2      MAPE\n",
       "0  FMPP  0.875005  0.081843"
      ]
     },
     "execution_count": 4,
     "metadata": {},
     "output_type": "execute_result"
    },
    {
     "name": "stdout",
     "output_type": "stream",
     "text": [
      "Processing BA: FMPP\n",
      "----CHECKING PREDICTIVE MODELS-----\n",
      "0.8959179745706888\n",
      "-496.15038269885576\n",
      "RMS-ABS:  190.32597794499213\n",
      "RMS NORM:  0.09327260583642641\n",
      "MAPE:  0.08184317957365166\n",
      "R2 value:  0.8750046916001578\n"
     ]
    }
   ],
   "source": [
    "df.head()"
   ]
  },
  {
   "cell_type": "markdown",
   "id": "08ad9c75-5dfc-4137-b39f-a4758c2c490c",
   "metadata": {},
   "source": [
    "### Create a final step aggregates to the county scale"
   ]
  },
  {
   "cell_type": "code",
   "execution_count": null,
   "id": "fb7981c5-0486-493c-91a4-96c9ce9231f9",
   "metadata": {},
   "outputs": [],
   "source": []
  },
  {
   "cell_type": "code",
   "execution_count": null,
   "id": "c08f7854-cfdb-44d6-ae0f-d9461d781879",
   "metadata": {},
   "outputs": [],
   "source": []
  },
  {
   "cell_type": "code",
   "execution_count": null,
   "id": "e192af4e-8f22-42b8-93d8-9aff0d0caace",
   "metadata": {},
   "outputs": [],
   "source": []
  },
  {
   "cell_type": "markdown",
   "id": "1087b609-a4ca-4257-8112-d9125ffc097a",
   "metadata": {},
   "source": [
    "### Outputs from TELL"
   ]
  },
  {
   "cell_type": "markdown",
   "id": "813eda66-034f-47ba-8258-551848f4408b",
   "metadata": {},
   "source": [
    "1) 8760 time series for each state where the sum (for analysis)\n",
    "2) 8760 for each county in the CONUS (for analysis)\n",
    "3) 8760 time series for each BA (for GO)\n"
   ]
  },
  {
   "cell_type": "code",
   "execution_count": null,
   "id": "f3b7fbef-74dd-4efe-b0f3-a8243d0d294e",
   "metadata": {},
   "outputs": [],
   "source": []
  }
 ],
 "metadata": {
  "kernelspec": {
   "display_name": "py3.9.4_tell",
   "language": "python",
   "name": "py3.9.4_tell"
  },
  "language_info": {
   "codemirror_mode": {
    "name": "ipython",
    "version": 3
   },
   "file_extension": ".py",
   "mimetype": "text/x-python",
   "name": "python",
   "nbconvert_exporter": "python",
   "pygments_lexer": "ipython3",
   "version": "3.9.4"
  }
 },
 "nbformat": 4,
 "nbformat_minor": 5
}

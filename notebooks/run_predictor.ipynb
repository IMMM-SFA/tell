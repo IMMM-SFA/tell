{
 "cells": [
  {
   "cell_type": "code",
   "execution_count": 1,
   "id": "f9f9eb76-806a-475b-8ba2-462379ae6baa",
   "metadata": {},
   "outputs": [],
   "source": [
    "import os\n",
    "\n",
    "import tell\n"
   ]
  },
  {
   "cell_type": "code",
   "execution_count": 2,
   "id": "6797a867-4ff7-40ee-b557-5f645cd33c3c",
   "metadata": {},
   "outputs": [],
   "source": [
    "root_dir = '/Users/d3y010/projects/tell'\n",
    "\n",
    "data_dir = os.path.join(root_dir, 'data', 'WRF_CSV_Files')\n",
    "\n",
    "output_dir = os.path.join(root_dir, 'outputs')\n",
    "\n",
    "# model settings\n",
    "target_ba_list =  ['FMPP'] # ['FMPP', 'WALC', 'SEC']\n",
    "generate_plots = True\n"
   ]
  },
  {
   "cell_type": "code",
   "execution_count": 3,
   "id": "5fdb6a10-44f2-4b98-ae63-fb958f8c4173",
   "metadata": {},
   "outputs": [
    {
     "name": "stdout",
     "output_type": "stream",
     "text": [
      "CPU times: user 26.6 ms, sys: 50.1 ms, total: 76.7 ms\n",
      "Wall time: 36.1 s\n",
      "\n",
      "Processing BA: FMPP\n",
      "----CHECKING PREDICTIVE MODELS-----\n",
      "0.8609814369811905\n",
      "-367.6391831033834\n",
      "Created figure:  /Users/d3y010/projects/tell/outputs/FMPP_mlp_predictions_timeseries.svg\n",
      "RMS-ABS:  198.6408516793777\n",
      "RMS NORM:  0.09734745651514536\n",
      "MAPE:  0.08776896044340371\n",
      "R2 value:  0.8569837346299616\n"
     ]
    }
   ],
   "source": [
    "%%time\n",
    "\n",
    "df = tell.predict(data_dir=data_dir,\n",
    "                  out_dir=output_dir,\n",
    "                  target_ba_list=target_ba_list,\n",
    "                  generate_plots=generate_plots)\n"
   ]
  },
  {
   "cell_type": "code",
   "execution_count": 4,
   "id": "fa47f3cb-a449-4445-a1af-9b10b643e8db",
   "metadata": {},
   "outputs": [
    {
     "data": {
      "text/html": [
       "<div>\n",
       "<style scoped>\n",
       "    .dataframe tbody tr th:only-of-type {\n",
       "        vertical-align: middle;\n",
       "    }\n",
       "\n",
       "    .dataframe tbody tr th {\n",
       "        vertical-align: top;\n",
       "    }\n",
       "\n",
       "    .dataframe thead th {\n",
       "        text-align: right;\n",
       "    }\n",
       "</style>\n",
       "<table border=\"1\" class=\"dataframe\">\n",
       "  <thead>\n",
       "    <tr style=\"text-align: right;\">\n",
       "      <th></th>\n",
       "      <th>BA</th>\n",
       "      <th>R2</th>\n",
       "      <th>MAPE</th>\n",
       "    </tr>\n",
       "  </thead>\n",
       "  <tbody>\n",
       "    <tr>\n",
       "      <th>0</th>\n",
       "      <td>FMPP</td>\n",
       "      <td>0.875005</td>\n",
       "      <td>0.081843</td>\n",
       "    </tr>\n",
       "  </tbody>\n",
       "</table>\n",
       "</div>"
      ],
      "text/plain": [
       "     BA        R2      MAPE\n",
       "0  FMPP  0.875005  0.081843"
      ]
     },
     "execution_count": 4,
     "metadata": {},
     "output_type": "execute_result"
    },
    {
     "name": "stdout",
     "output_type": "stream",
     "text": [
      "Processing BA: FMPP\n",
      "----CHECKING PREDICTIVE MODELS-----\n",
      "0.8959179745706888\n",
      "-496.15038269885576\n",
      "RMS-ABS:  190.32597794499213\n",
      "RMS NORM:  0.09327260583642641\n",
      "MAPE:  0.08184317957365166\n",
      "R2 value:  0.8750046916001578\n"
     ]
    }
   ],
   "source": [
    "df.head()"
   ]
  },
  {
   "cell_type": "code",
   "execution_count": null,
   "id": "4acb1cd5-519e-43af-80ff-e3b6a67c5675",
   "metadata": {},
   "outputs": [],
   "source": []
  }
 ],
 "metadata": {
  "kernelspec": {
   "display_name": "py3.9.4_tell",
   "language": "python",
   "name": "py3.9.4_tell"
  },
  "language_info": {
   "codemirror_mode": {
    "name": "ipython",
    "version": 3
   },
   "file_extension": ".py",
   "mimetype": "text/x-python",
   "name": "python",
   "nbconvert_exporter": "python",
   "pygments_lexer": "ipython3",
   "version": "3.9.4"
  }
 },
 "nbformat": 4,
 "nbformat_minor": 5
}

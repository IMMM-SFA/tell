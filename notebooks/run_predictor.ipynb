{
 "cells": [
  {
   "cell_type": "code",
   "execution_count": 1,
   "id": "f9f9eb76-806a-475b-8ba2-462379ae6baa",
   "metadata": {},
   "outputs": [],
   "source": [
    "import tell\n"
   ]
  },
  {
   "cell_type": "code",
   "execution_count": 2,
   "id": "6797a867-4ff7-40ee-b557-5f645cd33c3c",
   "metadata": {},
   "outputs": [
    {
     "name": "stdout",
     "output_type": "stream",
     "text": [
      "Help on function predict in module tell.predictor:\n",
      "\n",
      "predict(data_dir, out_dir, batch_run=True, target_ba_list=None, generate_plots=True, run_parallel=True, n_jobs=-1)\n",
      "    Convenience wrapper for the Process class which runs predictive models for each BA input CSV in the input\n",
      "    directory and creates a summary and comparative figures of R2 and MAPE per BA.\n",
      "    \n",
      "    :param data_dir:                Full path to the directory containing the target\n",
      "                                    CSV files\n",
      "    :type data_dir:                 str\n",
      "    \n",
      "    :param out_dir:                 Full path to the directory where the outputs are to be written\n",
      "    :type out_dir:                  str\n",
      "    \n",
      "    :param batch_run:               Indicating if we want to run the simulations for all BAs, or we handpick the BAs\n",
      "                                    If batch_run = True, the code will search for all BAs in 'dir'\n",
      "                                    If batch_run = False, we need to specify which BA to run\n",
      "    :type batch_run:                bool\n",
      "    \n",
      "    :param target_ba_list:          A list of BA names to run if `batch_run` is False\n",
      "    :type target_ba_list:           list\n",
      "    \n",
      "    \n",
      "    :param generate_plots:          Choice to generate and save plots\n",
      "    :type generate_plots:           bool\n",
      "    \n",
      "    :param run_parallel:            Choose to run BA's in parallel\n",
      "    :type run_parallel:             bool\n",
      "    \n",
      "    :param n_jobs:                  Set number of CPUs\n",
      "    :type n_jobs:                   int\n",
      "    \n",
      "    :return:                        Data frame of BA, R2, MAPE statistics\n",
      "\n"
     ]
    }
   ],
   "source": [
    "data_dir = 'C:/Users/mcgr323/OneDrive - PNNL/Desktop/WRF_CSV_Files/CSV_Files'\n",
    "output_dir = 'C:/Users/mcgr323/OneDrive - PNNL/Desktop/WRF_predict_output'\n",
    "\n",
    "batch_run = True\n",
    "target_ba_list = None\n",
    "generate_plots = True\n",
    "\n",
    "t0 = time.time()\n",
    "\n",
    "df = tell.predict(data_dir=data_dir,\n",
    "                  out_dir=output_dir,\n",
    "                  batch_run=batch_run,\n",
    "                  target_ba_list=target_ba_list,\n",
    "                  generate_plots=generate_plots)\n",
    "\n",
    "print(df)\n"
   ]
  },
  {
   "cell_type": "code",
   "execution_count": null,
   "id": "5fdb6a10-44f2-4b98-ae63-fb958f8c4173",
   "metadata": {},
   "outputs": [],
   "source": []
  }
 ],
 "metadata": {
  "kernelspec": {
   "display_name": "py3.9.4_tell",
   "language": "python",
   "name": "py3.9.4_tell"
  },
  "language_info": {
   "codemirror_mode": {
    "name": "ipython",
    "version": 3
   },
   "file_extension": ".py",
   "mimetype": "text/x-python",
   "name": "python",
   "nbconvert_exporter": "python",
   "pygments_lexer": "ipython3",
   "version": "3.9.4"
  }
 },
 "nbformat": 4,
 "nbformat_minor": 5
}

{
 "cells": [
  {
   "cell_type": "markdown",
   "id": "9e071b84",
   "metadata": {
    "pycharm": {
     "name": "#%% md\n"
    }
   },
   "source": [
    "# TELL Runs for the GODEEEP Project\n",
    "\n",
    "This notebook executes the initial set of runs of the TELL model for the GODEEEP project."
   ]
  },
  {
   "cell_type": "code",
   "execution_count": 1,
   "id": "86db683a-70a2-4f89-a1d6-4c6d5f180272",
   "metadata": {
    "pycharm": {
     "name": "#%%\n"
    }
   },
   "outputs": [],
   "source": [
    "# Start by importing the TELL package and information about your operating system:\n",
    "import os \n",
    "import tell\n",
    "\n",
    "import pandas as pd\n",
    "import matplotlib.pyplot as plt\n",
    "\n",
    "from tell.package_data import get_ba_abbreviations\n"
   ]
  },
  {
   "cell_type": "markdown",
   "id": "566fce96-4576-4a2d-9db6-4d0be72b3c1d",
   "metadata": {
    "pycharm": {
     "name": "#%% md\n"
    }
   },
   "source": [
    "## Set the Directory Structure"
   ]
  },
  {
   "cell_type": "code",
   "execution_count": 2,
   "id": "f7cc0f66-ba83-47d4-b161-0b1ad076064c",
   "metadata": {
    "pycharm": {
     "name": "#%%\n"
    }
   },
   "outputs": [],
   "source": [
    "# Identify the top-level directory and the subdirectory where the data will be stored:\n",
    "current_dir =  '/Users/burl878/Documents/IMMM/GODEEP/Data/TELL/Production_Runs'\n",
    "tell_data_dir = os.path.join(current_dir, r'tell_data')\n",
    "\n",
    "# If the \"tell_data_dir\" subdirectory doesn't exist then create it:\n",
    "if not os.path.exists(tell_data_dir):\n",
    "   os.makedirs(tell_data_dir)\n"
   ]
  },
  {
   "cell_type": "markdown",
   "id": "4a037554",
   "metadata": {
    "pycharm": {
     "name": "#%% md\n"
    }
   },
   "source": [
    "## Run the MLP Models"
   ]
  },
  {
   "cell_type": "code",
   "execution_count": null,
   "id": "76a6b851-29c9-4a1b-a149-ee341f1af5cd",
   "metadata": {
    "pycharm": {
     "name": "#%%\n"
    }
   },
   "outputs": [],
   "source": [
    "# Generate a list of BA abbreviations to process:\n",
    "ba_abbrev_list = tell.get_balancing_authority_to_model_dict().keys()\n",
    "\n",
    "scenario_to_process = 'historic'\n",
    "\n",
    "# Run the MLP prediction step for the list of BAs using parallel processing streams:\n",
    "for year_to_process in range(1980,2020,1):\n",
    "    pdf = tell.predict_batch(target_region_list = ba_abbrev_list,\n",
    "                             year = year_to_process,\n",
    "                             data_dir = os.path.join(tell_data_dir, r'wrf_to_tell_data', scenario_to_process),\n",
    "                             datetime_field_name = 'Time_UTC',\n",
    "                             save_prediction = True,\n",
    "                             prediction_output_directory = os.path.join(tell_data_dir, r'outputs', r'mlp_output', scenario_to_process),\n",
    "                             n_jobs = -1)\n"
   ]
  },
  {
   "cell_type": "markdown",
   "id": "f9048639",
   "metadata": {
    "pycharm": {
     "name": "#%% md\n"
    }
   },
   "source": [
    "## Run the Forward Execution"
   ]
  },
  {
   "cell_type": "code",
   "execution_count": 5,
   "id": "04afab9a",
   "metadata": {
    "pycharm": {
     "name": "#%%\n"
    }
   },
   "outputs": [
    {
     "name": "stdout",
     "output_type": "stream",
     "text": [
      "Start time =  2023-02-06 15:08:46.319109\n",
      "End time =  2023-02-06 15:09:57.548812\n",
      "Elapsed time =  0:01:11.229798\n",
      "Start time =  2023-02-06 15:09:57.931594\n",
      "End time =  2023-02-06 15:11:09.781199\n",
      "Elapsed time =  0:01:11.849711\n",
      "Start time =  2023-02-06 15:11:10.159510\n",
      "End time =  2023-02-06 15:12:21.234134\n",
      "Elapsed time =  0:01:11.074703\n",
      "Start time =  2023-02-06 15:12:21.614237\n",
      "End time =  2023-02-06 15:13:33.028088\n",
      "Elapsed time =  0:01:11.413945\n",
      "Start time =  2023-02-06 15:13:33.398109\n",
      "End time =  2023-02-06 15:14:45.773781\n",
      "Elapsed time =  0:01:12.375778\n",
      "Start time =  2023-02-06 15:14:46.154708\n",
      "End time =  2023-02-06 15:15:58.385655\n",
      "Elapsed time =  0:01:12.231035\n",
      "Start time =  2023-02-06 15:15:58.767548\n",
      "End time =  2023-02-06 15:17:09.800464\n",
      "Elapsed time =  0:01:11.033008\n",
      "Start time =  2023-02-06 15:17:10.191379\n",
      "End time =  2023-02-06 15:18:22.453144\n",
      "Elapsed time =  0:01:12.261866\n",
      "Start time =  2023-02-06 15:18:22.831563\n",
      "End time =  2023-02-06 15:19:34.666301\n",
      "Elapsed time =  0:01:11.834838\n",
      "Start time =  2023-02-06 15:19:35.042590\n",
      "End time =  2023-02-06 15:20:47.040360\n",
      "Elapsed time =  0:01:11.997865\n",
      "Start time =  2023-02-06 15:20:47.414966\n",
      "End time =  2023-02-06 15:21:59.425025\n",
      "Elapsed time =  0:01:12.010170\n",
      "Start time =  2023-02-06 15:21:59.809450\n",
      "End time =  2023-02-06 15:23:10.971425\n",
      "Elapsed time =  0:01:11.162064\n",
      "Start time =  2023-02-06 15:23:11.350147\n",
      "End time =  2023-02-06 15:24:22.993680\n",
      "Elapsed time =  0:01:11.643634\n",
      "Start time =  2023-02-06 15:24:23.377796\n",
      "End time =  2023-02-06 15:25:35.221332\n",
      "Elapsed time =  0:01:11.843634\n",
      "Start time =  2023-02-06 15:25:35.609902\n",
      "End time =  2023-02-06 15:26:47.678219\n",
      "Elapsed time =  0:01:12.068412\n",
      "Start time =  2023-02-06 15:26:48.053339\n",
      "End time =  2023-02-06 15:27:59.856417\n",
      "Elapsed time =  0:01:11.803176\n",
      "Start time =  2023-02-06 15:28:00.242924\n",
      "End time =  2023-02-06 15:29:12.295933\n",
      "Elapsed time =  0:01:12.053108\n",
      "Start time =  2023-02-06 15:29:12.679564\n",
      "End time =  2023-02-06 15:30:24.290579\n",
      "Elapsed time =  0:01:11.611096\n",
      "Start time =  2023-02-06 15:30:24.669366\n",
      "End time =  2023-02-06 15:31:36.095598\n",
      "Elapsed time =  0:01:11.426320\n",
      "Start time =  2023-02-06 15:31:36.478878\n",
      "End time =  2023-02-06 15:32:48.051205\n",
      "Elapsed time =  0:01:11.572464\n",
      "Start time =  2023-02-06 15:32:48.429989\n",
      "End time =  2023-02-06 15:34:00.865878\n",
      "Elapsed time =  0:01:12.435979\n",
      "Start time =  2023-02-06 15:34:01.245890\n",
      "End time =  2023-02-06 15:35:12.906227\n",
      "Elapsed time =  0:01:11.660433\n",
      "Start time =  2023-02-06 15:35:13.266866\n",
      "End time =  2023-02-06 15:36:24.836593\n",
      "Elapsed time =  0:01:11.569817\n",
      "Start time =  2023-02-06 15:36:25.218735\n",
      "End time =  2023-02-06 15:37:36.281502\n",
      "Elapsed time =  0:01:11.062861\n",
      "Start time =  2023-02-06 15:37:36.664699\n",
      "End time =  2023-02-06 15:38:48.595507\n",
      "Elapsed time =  0:01:11.930924\n",
      "Start time =  2023-02-06 15:38:48.978479\n",
      "End time =  2023-02-06 15:40:00.260299\n",
      "Elapsed time =  0:01:11.281921\n",
      "Start time =  2023-02-06 15:40:00.635178\n",
      "End time =  2023-02-06 15:41:11.679516\n",
      "Elapsed time =  0:01:11.044433\n",
      "Start time =  2023-02-06 15:41:12.048546\n",
      "End time =  2023-02-06 15:42:22.951375\n",
      "Elapsed time =  0:01:10.902928\n",
      "Start time =  2023-02-06 15:42:23.331548\n",
      "End time =  2023-02-06 15:43:35.631787\n",
      "Elapsed time =  0:01:12.300329\n",
      "Start time =  2023-02-06 15:43:36.014999\n",
      "End time =  2023-02-06 15:44:47.553709\n",
      "Elapsed time =  0:01:11.538802\n",
      "Start time =  2023-02-06 15:44:47.936128\n",
      "End time =  2023-02-06 15:45:59.325590\n",
      "Elapsed time =  0:01:11.389558\n",
      "Start time =  2023-02-06 15:45:59.710806\n",
      "End time =  2023-02-06 15:47:11.108186\n",
      "Elapsed time =  0:01:11.397482\n",
      "Start time =  2023-02-06 15:47:11.493610\n",
      "End time =  2023-02-06 15:48:23.526909\n",
      "Elapsed time =  0:01:12.033392\n",
      "Start time =  2023-02-06 15:48:23.904726\n",
      "End time =  2023-02-06 15:49:35.051935\n",
      "Elapsed time =  0:01:11.147320\n",
      "Start time =  2023-02-06 15:49:35.431515\n",
      "End time =  2023-02-06 15:50:46.471769\n",
      "Elapsed time =  0:01:11.040358\n",
      "Start time =  2023-02-06 15:50:46.852148\n",
      "End time =  2023-02-06 15:51:58.388331\n",
      "Elapsed time =  0:01:11.536275\n",
      "Start time =  2023-02-06 15:51:58.769229\n",
      "End time =  2023-02-06 15:53:10.850648\n",
      "Elapsed time =  0:01:12.081523\n",
      "Start time =  2023-02-06 15:53:11.230373\n",
      "End time =  2023-02-06 15:54:23.053931\n",
      "Elapsed time =  0:01:11.823654\n",
      "Start time =  2023-02-06 15:54:23.437612\n",
      "End time =  2023-02-06 15:55:35.236687\n",
      "Elapsed time =  0:01:11.799165\n",
      "Start time =  2023-02-06 15:55:35.618222\n",
      "End time =  2023-02-06 15:56:47.123451\n",
      "Elapsed time =  0:01:11.505344\n"
     ]
    }
   ],
   "source": [
    "# Run the TELL model forward in time:\n",
    "for year in range(2020,2050,1):\n",
    "    summary_df, ba_time_series_df, state_time_series_df = tell.execute_forward(year_to_process = str(year),\n",
    "                                                                               gcam_target_year = str(year), \n",
    "                                                                               gcam_scenario_to_process = 'BAU_Climate',\n",
    "                                                                               weather_scenario_to_process = 'rcp85hotter_ssp5',\n",
    "                                                                               data_output_dir = '/Users/burl878/Documents/IMMM/GODEEP/Data/TELL/Production_Runs/tell_data/outputs/tell_output',\n",
    "                                                                               gcam_usa_input_dir = '/Users/burl878/Documents/IMMM/GODEEP/Data/TELL/Production_Runs/tell_data/gcamusa_data',\n",
    "                                                                               map_input_dir = '/Users/burl878/Documents/IMMM/GODEEP/Data/TELL/Production_Runs/tell_data/ba_service_territory_data',\n",
    "                                                                               mlp_input_dir = '/Users/burl878/Documents/IMMM/GODEEP/Data/TELL/Production_Runs/tell_data/outputs/mlp_output',\n",
    "                                                                               pop_input_dir = '/Users/burl878/Documents/IMMM/GODEEP/Data/TELL/Production_Runs/tell_data/population_data',\n",
    "                                                                               save_county_data = False)\n"
   ]
  },
  {
   "cell_type": "code",
   "execution_count": null,
   "id": "54bf34b3-bb9d-47b6-b234-ac2bee4b47bf",
   "metadata": {},
   "outputs": [],
   "source": []
  }
 ],
 "metadata": {
  "kernelspec": {
   "display_name": "py3.9.15_std",
   "language": "python",
   "name": "py3.9.15_std"
  },
  "language_info": {
   "codemirror_mode": {
    "name": "ipython",
    "version": 3
   },
   "file_extension": ".py",
   "mimetype": "text/x-python",
   "name": "python",
   "nbconvert_exporter": "python",
   "pygments_lexer": "ipython3",
   "version": "3.9.15"
  }
 },
 "nbformat": 4,
 "nbformat_minor": 5
}

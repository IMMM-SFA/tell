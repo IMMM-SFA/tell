{
 "cells": [
  {
   "cell_type": "code",
   "execution_count": 1,
   "id": "ecc3a5e3-bc68-48e4-9252-b2fe9aef5926",
   "metadata": {},
   "outputs": [],
   "source": [
    "# Start by importing the TELL package and information about your operating system:\n",
    "import os \n",
    "import tell\n",
    "\n",
    "import numpy as np\n",
    "import pandas as pd\n",
    "\n",
    "from glob import glob\n",
    "from os import listdir\n"
   ]
  },
  {
   "cell_type": "code",
   "execution_count": 2,
   "id": "32f1a62d-6b29-4ded-ad8d-971cc2ffaaa7",
   "metadata": {},
   "outputs": [],
   "source": [
    "data_input_dir = '/Users/burl878/Documents/tell/tell/tell_data/sample_forcing_data/future_weather/rcp85hotter_ssp5/'\n",
    "\n",
    "def find_csv_filenames(path_to_dir, suffix=\".csv\"):\n",
    "    filenames = listdir(path_to_dir)\n",
    "    return [filename for filename in filenames if filename.endswith( suffix )]\n",
    "\n",
    "input_files = find_csv_filenames(data_input_dir)\n",
    "\n",
    "for file in range(len(input_files)):\n",
    "    filename = input_files[file]\n",
    "    ba_code = filename.split('_', 1)[0]\n",
    "    year = int(filename.split('_', 5)[5].strip('.csv'))\n",
    "    \n",
    "    # Read in the .csv file:\n",
    "    df = pd.read_csv(os.path.join(data_input_dir, input_files[file]))                               \n",
    "    \n",
    "    # Convert the time to a datetime variable:\n",
    "    df['datetime'] = pd.to_datetime(df['Time_UTC'])\n",
    "    \n",
    "    # Extract the year, month, day, and hour for each date:\n",
    "    df['Year'] = df['datetime'].dt.strftime('%Y')\n",
    "    df['Month'] = df['datetime'].dt.strftime('%m')\n",
    "    df['Day'] = df['datetime'].dt.strftime('%d')\n",
    "    df['Hour'] = df['datetime'].dt.strftime('%H')\n",
    "    \n",
    "    # Read in the future population for that BA and year combo:\n",
    "    pop = tell.extract_future_ba_population(year, ba_code, 'ssp5', '/Users/burl878/Documents/tell/tell/tell_data')\n",
    "    \n",
    "    # Merge the two dataframes together using the year, month, day, and hour:\n",
    "    df = df.merge(pop, on=['Year', 'Month', 'Day', 'Hour'])\n",
    "    \n",
    "    # Drop out the columns we don't need anymore:\n",
    "    df.drop(['datetime', 'Year', 'Month', 'Day', 'Hour'], axis=1, inplace=True)\n",
    "    \n",
    "    # Write the output to the original .csv file:\n",
    "    df.to_csv(os.path.join(data_input_dir, input_files[file]), index=False)\n",
    "    \n",
    "    del filename, ba_code, year, df"
   ]
  },
  {
   "cell_type": "code",
   "execution_count": null,
   "id": "47f6a0d4-145c-442c-9493-aa9613653648",
   "metadata": {},
   "outputs": [],
   "source": []
  }
 ],
 "metadata": {
  "kernelspec": {
   "display_name": "py3.9.4_tell",
   "language": "python",
   "name": "py3.9.4_tell"
  },
  "language_info": {
   "codemirror_mode": {
    "name": "ipython",
    "version": 3
   },
   "file_extension": ".py",
   "mimetype": "text/x-python",
   "name": "python",
   "nbconvert_exporter": "python",
   "pygments_lexer": "ipython3",
   "version": "3.9.4"
  }
 },
 "nbformat": 4,
 "nbformat_minor": 5
}

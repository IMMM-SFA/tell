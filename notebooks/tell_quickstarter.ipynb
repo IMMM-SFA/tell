{
 "cells": [
  {
   "cell_type": "markdown",
   "id": "347dacd7-25c2-4a0a-95a6-187f7823c415",
   "metadata": {
    "tags": []
   },
   "source": [
    "**Load nescessary packages**"
   ]
  },
  {
   "cell_type": "code",
   "execution_count": 5,
   "id": "c0e9c75a-eb13-4868-9c2d-de6a85920592",
   "metadata": {},
   "outputs": [],
   "source": [
    "import tell\n",
    "import im3components "
   ]
  },
  {
   "cell_type": "markdown",
   "id": "566fce96-4576-4a2d-9db6-4d0be72b3c1d",
   "metadata": {},
   "source": [
    "**Install package data**\n",
    "\n",
    "NOTE: The package data will require approximately 1.4 GB of storage.\n",
    "\n",
    "Ensure that you have installed the package data using:"
   ]
  },
  {
   "cell_type": "code",
   "execution_count": 6,
   "id": "8840888f-e1b9-43c6-9b86-d4682edb2c7a",
   "metadata": {},
   "outputs": [
    {
     "ename": "AttributeError",
     "evalue": "module 'tell' has no attribute 'install_package_data'",
     "output_type": "error",
     "traceback": [
      "\u001b[1;31m---------------------------------------------------------------------------\u001b[0m",
      "\u001b[1;31mAttributeError\u001b[0m                            Traceback (most recent call last)",
      "\u001b[1;32m~\\AppData\\Local\\Temp/ipykernel_19420/1485562569.py\u001b[0m in \u001b[0;36m<module>\u001b[1;34m\u001b[0m\n\u001b[1;32m----> 1\u001b[1;33m \u001b[0mtell\u001b[0m\u001b[1;33m.\u001b[0m\u001b[0minstall_package_data\u001b[0m\u001b[1;33m(\u001b[0m\u001b[1;33m)\u001b[0m\u001b[1;33m\u001b[0m\u001b[1;33m\u001b[0m\u001b[0m\n\u001b[0m",
      "\u001b[1;31mAttributeError\u001b[0m: module 'tell' has no attribute 'install_package_data'"
     ]
    }
   ],
   "source": [
    "tell.install_package_data()"
   ]
  },
  {
   "cell_type": "markdown",
   "id": "d57b10c8-5872-42a9-84ae-ba09ef4a90c2",
   "metadata": {},
   "source": [
    "**1. Data processing for TELL**\n",
    "\n",
    "In the next few code blocks we will load and manipulate the nescessary data for the <b>tell</b>  package. This consists of hourly load, population and meterology for the CONUS, which will be loaded in from raw data sources, manipulated and then compiled together to use as input for the MLP model. Please follow the steps below to produce the hourly input data, if you have already finished this step you can proceed to **2. Model training and prediction**\n",
    "    \n",
    "**1.1 Hourly load**\n",
    "\n",
    "Here we load in the raw EIA 930 hourly load profiles for all Balancing Authorities (BAs), subset for the wanted columns only and then output the hourly load as csvs to be compiled later with population, and meteorlogy to be fed to the MLP model downstream for predict future load. "
   ]
  },
  {
   "cell_type": "code",
   "execution_count": 2,
   "id": "745e6732-9c6f-4bd8-956b-4686ad60652c",
   "metadata": {},
   "outputs": [
    {
     "ename": "NameError",
     "evalue": "name 'tell' is not defined",
     "output_type": "error",
     "traceback": [
      "\u001b[1;31m---------------------------------------------------------------------------\u001b[0m",
      "\u001b[1;31mNameError\u001b[0m                                 Traceback (most recent call last)",
      "\u001b[1;32m~\\AppData\\Local\\Temp/ipykernel_11956/16785790.py\u001b[0m in \u001b[0;36m<module>\u001b[1;34m\u001b[0m\n\u001b[0;32m      6\u001b[0m \u001b[1;33m\u001b[0m\u001b[0m\n\u001b[0;32m      7\u001b[0m \u001b[1;31m# Process the hourly load data\u001b[0m\u001b[1;33m\u001b[0m\u001b[1;33m\u001b[0m\u001b[1;33m\u001b[0m\u001b[0m\n\u001b[1;32m----> 8\u001b[1;33m \u001b[0mtell\u001b[0m\u001b[1;33m.\u001b[0m\u001b[0mprocess_eia_930\u001b[0m\u001b[1;33m(\u001b[0m\u001b[0mEIA_930_input_dir\u001b[0m\u001b[1;33m,\u001b[0m \u001b[0mEIA_930_output_dir\u001b[0m\u001b[1;33m)\u001b[0m\u001b[1;33m\u001b[0m\u001b[1;33m\u001b[0m\u001b[0m\n\u001b[0m",
      "\u001b[1;31mNameError\u001b[0m: name 'tell' is not defined"
     ]
    }
   ],
   "source": [
    "# Hourly load data (EIA 930):\n",
    "\n",
    "# Set the data input and output directories:\n",
    "EIA_930_input_dir = '//connie-1/im3fs/tell/inputs/raw_data/EIA_930/Balancing_Authority'\n",
    "EIA_930_output_dir = 'C:/Users/mcgr323/projects/tell/BA_hourly_inputs/BA_Hourly_Load'\n",
    "\n",
    "# Process the hourly load data\n",
    "tell.process_eia_930(EIA_930_input_dir, EIA_930_output_dir)"
   ]
  },
  {
   "cell_type": "markdown",
   "id": "5274fd1f-de15-4987-b9fe-c30b2af57c4e",
   "metadata": {},
   "source": [
    "**1.2 Population data**\n",
    "\n",
    "For this data processing step we will load in the annual population by FIPS code, merge by FIPS code to get the correspondng BA number, sum by  year and BA number and then interpolate the annual population to hourly population in order to feed it to the MLP model downstream. "
   ]
  },
  {
   "cell_type": "code",
   "execution_count": 3,
   "id": "85bb4ead-6a55-4b42-bc0a-80e849aef2d4",
   "metadata": {},
   "outputs": [],
   "source": [
    "# County population data:\n",
    "\n",
    "# Set the data input and output directories:\n",
    "population_input_dir = '//connie-1/im3fs/tell/inputs'\n",
    "mapping_input_dir = '//connie-1/im3fs/tell/inputs/Utility_Mapping/CSV_Files'\n",
    "pop_output_dir = 'C:/Users/mcgr323/projects/tell/BA_hourly_inputs/BA_population'\n",
    "\n",
    "# Set some processing flags:\n",
    "start_year = 2015;  # Starting year of time series\n",
    "end_year = 2019;  # Ending year of time series"
   ]
  },
  {
   "cell_type": "markdown",
   "id": "726a3913-25ec-4d9f-8544-ecff68e4d467",
   "metadata": {},
   "source": [
    "**1.3 Meterology data**\n",
    "\n",
    "Here we use the <im3components> package to load in the WRF meterology data, average WRF meteorology by county and then aggregate them into annual hourly time-series of population-weighted meteorology for each balancing authority (BA). All times are in UTC. Missing values are reported as -9999."
   ]
  },
  {
   "cell_type": "code",
   "execution_count": null,
   "id": "34a9245d-c18b-4a13-8f1d-1933b22fcac6",
   "metadata": {},
   "outputs": [],
   "source": [
    "WRF_output_dir = 'C:/Users/mcgr323/projects/tell/BA_hourly_inputs/BA_WRF'\n",
    "\n",
    "from im3components.wrf_tell.wrf_tell_counties import wrf_to_tell_counties\n",
    "from im3components.wrf_tell.wrf_tell_balancing_authorities import wrf_to_tell_balancing_authorities\n",
    "\n"
   ]
  },
  {
   "cell_type": "markdown",
   "id": "a47f5df8-16d9-400c-acdf-2f0d34b971f2",
   "metadata": {},
   "source": [
    "**1.4 Compile hourly load, population and meterology data**\n",
    "\n",
    "Here we compile all the data processing steps above for hourly load (EIA 930), population (county FIPS) and meteorlogy (WRF) to get a final cleaned up dataset to use as an input to the MLP model. "
   ]
  },
  {
   "cell_type": "code",
   "execution_count": null,
   "id": "55ef7700-4eee-4d02-a8f9-a2ecca806943",
   "metadata": {},
   "outputs": [],
   "source": [
    "# Compile hourly load, hourly population and hourly WRF data for MLP model\n",
    "EIA_930_output_dir = 'C:/Users/mcgr323/projects/tell/BA_hourly_inputs/BA_Hourly_Load'\n",
    "pop_output_dir = 'C:/Users/mcgr323/projects/tell/BA_hourly_inputs/BA_population'\n",
    "WRF_output_dir = 'C:/Users/mcgr323/projects/tell/BA_hourly_inputs/BA_WRF'"
   ]
  },
  {
   "cell_type": "markdown",
   "id": "d2de8b82-5cdb-4b74-97b0-3af228c0e002",
   "metadata": {},
   "source": [
    "**2. Model training and prediction**"
   ]
  },
  {
   "cell_type": "code",
   "execution_count": null,
   "id": "1e12b03b-901d-4e5c-ac9d-7013fdaf1c83",
   "metadata": {},
   "outputs": [],
   "source": []
  },
  {
   "cell_type": "code",
   "execution_count": null,
   "id": "3b33b891-0936-47e2-99e4-eed984a910a3",
   "metadata": {},
   "outputs": [],
   "source": []
  }
 ],
 "metadata": {
  "kernelspec": {
   "display_name": "Python 3 (ipykernel)",
   "language": "python",
   "name": "python3"
  },
  "language_info": {
   "codemirror_mode": {
    "name": "ipython",
    "version": 3
   },
   "file_extension": ".py",
   "mimetype": "text/x-python",
   "name": "python",
   "nbconvert_exporter": "python",
   "pygments_lexer": "ipython3",
   "version": "3.8.3"
  }
 },
 "nbformat": 4,
 "nbformat_minor": 5
}

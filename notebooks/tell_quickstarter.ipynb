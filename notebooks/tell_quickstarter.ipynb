{
 "cells": [
  {
   "cell_type": "markdown",
   "id": "9e071b84",
   "metadata": {},
   "source": [
    "# Welcome to the TELL Quickstarter! \n",
    "\n",
    "### **`tell` is an open-source Python package for predicting future electricty load in the United States.**\n",
    "\n",
    "## A little about `tell`\n",
    "\n",
    "The Total ELectricity Load (TELL) model predicts the short- and long-term evoluation of hourly electricity demand in response to future climate and population changes. The purpose of `tell` is to generate end-of-century hourly profiles of electricity demand across the entire United States (U.S.) at a spatial resolution adequate for input to a unit commitment/economic dispatch (UC/ED) model while also maintaining consistency with the long-term growth and evolution of annual state-level electricity demand projected by an economically driven human-Earth system model. `tell` takes as input future projections of hourly time-series of meteorology and uses the temporal variations in weather to predict hourly profiles of total electricity demand for every county in the lower 48 states. The core predicitons in `tell` are based on a series of multilayer perceptron (MLP) models for individual Balancing Authorities (BAs). Those MLP models are trained on historical observations of weather and electricity demand. Hourly predictions from `tell` are scaled to match the annual state-level total electricity loads predicted by the U.S. version of the Global Change Analysis Model (GCAM-USA). GCAM-USA captures the long-term co-evolution of the human-Earth system. Using this unique approach allows `tell` to reflect both changes in the shape of the load profile due to variations in weather and the long-term evolution of energy demand due to changes in population, technology, and economics. `tell` is unique from other probabilistic load forecasting models in that it features an explicit spatial component that allows us to relate predicted loads to where they would occur spatially within a grid operations model. The output of `tell` is a series of hourly predictions for future electricity demand at the county, state, and BA scale that are quantitatively and conceptually consistent with one another.\n",
    "\n",
    "## Lets get started! \n",
    "\n",
    "In this quickstarter we will walk through a series of steps for exploring `tell`, starting with importing the package and ending with visualizing the output. This quickstarter is based on a subset of forcing data for `tell`. This allows the user to walk through the entire `tell` package in a matter of minutes. More information about how the model works and how it can be fully applied are available on the [Read the Docs](https://immm-sfa.github.io/tell/index.html) site for `tell`.\n",
    "\n",
    "## 1. Install `tell`\n",
    "\n",
    "`tell` is available via GitHub repository by using the pip install functionality below."
   ]
  },
  {
   "cell_type": "code",
   "execution_count": null,
   "id": "ff1c3f5b",
   "metadata": {},
   "outputs": [],
   "source": [
    "pip install git+https://github.com/IMMM-SFA/tell.git"
   ]
  },
  {
   "cell_type": "code",
   "execution_count": 1,
   "id": "86db683a-70a2-4f89-a1d6-4c6d5f180272",
   "metadata": {},
   "outputs": [],
   "source": [
    "# Start by importing the TELL package and information about your operating system:\n",
    "import os \n",
    "import tell"
   ]
  },
  {
   "cell_type": "markdown",
   "id": "566fce96-4576-4a2d-9db6-4d0be72b3c1d",
   "metadata": {},
   "source": [
    "## 2. Install the package of raw data underpinning TELL\n",
    "\n",
    "`tell` is based on open-source publicly accessible data. For convienence, we've packaged all of the core data underpinning `tell` into a [Zenodo data package](https://zenodo.org/record/5714756#.YhkTjxPMJTY). In order to run this notebook, first set the local directory where you would like to store the package data and the run the 'install_package_data' function below. Note that the raw data package will require ~1.6 GB of storage and can take several minutes to download."
   ]
  },
  {
   "cell_type": "code",
   "execution_count": 2,
   "id": "f7cc0f66-ba83-47d4-b161-0b1ad076064c",
   "metadata": {},
   "outputs": [],
   "source": [
    "# Identify the current working directory and the \"tell_data\" directory where the data will be stored:\n",
    "current_dir =  os.path.join(os.path.dirname(os.getcwd()))\n",
    "raw_data_dir = os.path.join(current_dir, r'tell_data')\n",
    "\n",
    "# If the \"tell_data\" subdirectory doesn't exist then create it:\n",
    "if not os.path.exists(raw_data_dir):\n",
    "   os.makedirs(raw_data_dir)\n"
   ]
  },
  {
   "cell_type": "code",
   "execution_count": null,
   "id": "a8f47ed7-b16e-4bb7-9393-12b9821768da",
   "metadata": {},
   "outputs": [],
   "source": [
    "# Download the TELL raw data package from Zenodo:\n",
    "tell.install_package_data(data_dir=raw_data_dir)"
   ]
  },
  {
   "cell_type": "markdown",
   "id": "d57b10c8-5872-42a9-84ae-ba09ef4a90c2",
   "metadata": {},
   "source": [
    "## 3. Pre-process the data needed for TELL\n",
    "\n",
    "In the next few code blocks we will load and process the necessary data for `tell`. The raw data (i.e., historical loads, population, meteorology, etc.) is in a variety of different formats determined by their originating organization (e.g., the Energy Information Agency). This series of processing steps cleans the raw data and converts it into a set of simplified .csv files which can be combined together and used as input to the MLP model training steps. Follow the sequence below to pre-process the `tell` input data. If you have already finished this step you can proceed to section 4.\n",
    "\n",
    "### 3.1. Spatially mapping Balancing Authorities (BAs) to counties\n",
    "\n",
    "The code block underpins the spatial component of `tell`. The function 'map_ba_service_territory' uses information about Balancing Authorities (BAs) from the [EIA-861](https://www.eia.gov/electricity/data/eia861/) dataset to spatially map BAs to U.S. counties. This allows us to assign loads predicted for individual BAs in `tell` to where they would occur with respect to each other spatially. More information about how BAs are mapped is available on the [Read the Docs](https://immm-sfa.github.io/tell/index.html) site for `tell`."
   ]
  },
  {
   "cell_type": "code",
   "execution_count": 3,
   "id": "dab18f31",
   "metadata": {
    "scrolled": true
   },
   "outputs": [
    {
     "name": "stdout",
     "output_type": "stream",
     "text": [
      "2022-03-02 09:48:59,118 - root - INFO - Start time:  2022-03-02 09:48:59\n",
      "2022-03-02 09:48:59,119 - root - INFO - Preparing data...\n",
      "2022-03-02 09:49:00,935 - root - INFO - Applying filter one...\n",
      "2022-03-02 09:49:01,125 - root - INFO - Applying filter two...\n",
      "2022-03-02 09:49:13,449 - root - INFO - Formatting output data...\n",
      "2022-03-02 09:49:13,568 - root - INFO - Identifying unmatched data...\n",
      "2022-03-02 09:49:13,629 - root - INFO - Writing output file to:  /Users/burl878/Documents/tell/tell/tell_data/outputs/ba_service_territory/ba_service_territory_2015.csv\n",
      "2022-03-02 09:49:13,682 - root - INFO - End time:  2022-03-02 09:49:13\n",
      "2022-03-02 09:49:13,685 - root - INFO - Start time:  2022-03-02 09:49:13\n",
      "2022-03-02 09:49:13,686 - root - INFO - Preparing data...\n",
      "2022-03-02 09:49:15,342 - root - INFO - Applying filter one...\n",
      "2022-03-02 09:49:15,519 - root - INFO - Applying filter two...\n",
      "2022-03-02 09:49:26,996 - root - INFO - Formatting output data...\n",
      "2022-03-02 09:49:27,102 - root - INFO - Identifying unmatched data...\n",
      "2022-03-02 09:49:27,158 - root - INFO - Writing output file to:  /Users/burl878/Documents/tell/tell/tell_data/outputs/ba_service_territory/ba_service_territory_2016.csv\n",
      "2022-03-02 09:49:27,207 - root - INFO - End time:  2022-03-02 09:49:27\n",
      "2022-03-02 09:49:27,211 - root - INFO - Start time:  2022-03-02 09:49:27\n",
      "2022-03-02 09:49:27,212 - root - INFO - Preparing data...\n",
      "2022-03-02 09:49:29,010 - root - INFO - Applying filter one...\n",
      "2022-03-02 09:49:29,186 - root - INFO - Applying filter two...\n",
      "2022-03-02 09:49:40,186 - root - INFO - Formatting output data...\n",
      "2022-03-02 09:49:40,295 - root - INFO - Identifying unmatched data...\n",
      "2022-03-02 09:49:40,350 - root - INFO - Writing output file to:  /Users/burl878/Documents/tell/tell/tell_data/outputs/ba_service_territory/ba_service_territory_2017.csv\n",
      "2022-03-02 09:49:40,391 - root - INFO - End time:  2022-03-02 09:49:40\n",
      "2022-03-02 09:49:40,394 - root - INFO - Start time:  2022-03-02 09:49:40\n",
      "2022-03-02 09:49:40,395 - root - INFO - Preparing data...\n",
      "2022-03-02 09:49:42,136 - root - INFO - Applying filter one...\n",
      "2022-03-02 09:49:42,308 - root - INFO - Applying filter two...\n",
      "2022-03-02 09:49:55,087 - root - INFO - Formatting output data...\n",
      "2022-03-02 09:49:55,195 - root - INFO - Identifying unmatched data...\n",
      "2022-03-02 09:49:55,250 - root - INFO - Writing output file to:  /Users/burl878/Documents/tell/tell/tell_data/outputs/ba_service_territory/ba_service_territory_2018.csv\n",
      "2022-03-02 09:49:55,291 - root - INFO - End time:  2022-03-02 09:49:55\n",
      "2022-03-02 09:49:55,295 - root - INFO - Start time:  2022-03-02 09:49:55\n",
      "2022-03-02 09:49:55,295 - root - INFO - Preparing data...\n",
      "2022-03-02 09:49:57,464 - root - INFO - Applying filter one...\n",
      "2022-03-02 09:49:57,656 - root - INFO - Applying filter two...\n",
      "2022-03-02 09:50:10,292 - root - INFO - Formatting output data...\n",
      "2022-03-02 09:50:10,408 - root - INFO - Identifying unmatched data...\n",
      "2022-03-02 09:50:10,466 - root - INFO - Writing output file to:  /Users/burl878/Documents/tell/tell/tell_data/outputs/ba_service_territory/ba_service_territory_2019.csv\n",
      "2022-03-02 09:50:10,512 - root - INFO - End time:  2022-03-02 09:50:10\n"
     ]
    }
   ],
   "source": [
    "# Set the start and end year for mapping BAs to counties:\n",
    "start_year = 2015\n",
    "end_year = 2019\n",
    "\n",
    "# Execute the mapping function:\n",
    "tell.map_ba_service_territory(start_year, end_year, raw_data_dir, current_dir)\n"
   ]
  },
  {
   "cell_type": "markdown",
   "id": "ed8412d0",
   "metadata": {},
   "source": [
    "### 3.2. Process the EIA-930 historical hourly demand dataset\n",
    "\n",
    "Here we convert the raw EIA-930 hourly electricity demand data for BAs from Excel files to .csv files. The function 'process_eia_930' also subsets the EIA-930 dataset to only include the desired variables. Note that this step can take a few minutes even using parallel processing streams."
   ]
  },
  {
   "cell_type": "code",
   "execution_count": null,
   "id": "745e6732-9c6f-4bd8-956b-4686ad60652c",
   "metadata": {
    "scrolled": true
   },
   "outputs": [],
   "source": [
    "# Set the data input and output directories for the EIA-930 data processing:\n",
    "eia_930_input_dir = raw_data_dir\n",
    "eia_930_output_dir = os.path.join(current_dir, r'outputs', r'historical_ba_load')\n",
    "\n",
    "if not os.path.exists(eia_930_output_dir):\n",
    "   os.makedirs(eia_930_output_dir)\n"
   ]
  },
  {
   "cell_type": "code",
   "execution_count": null,
   "id": "a94f6616-3de4-4a57-a3d9-75bf5adbe6bb",
   "metadata": {},
   "outputs": [],
   "source": [
    "# Execute the function to pre-proceess the raw EIA-930 data using parallel processing streams:\n",
    "tell.process_eia_930(eia_930_input_dir, eia_930_output_dir, n_jobs=-1)\n"
   ]
  },
  {
   "cell_type": "markdown",
   "id": "5274fd1f-de15-4987-b9fe-c30b2af57c4e",
   "metadata": {},
   "source": [
    "### 3.3. Process the historical population dataset\n",
    "\n",
    "This pre-processing step takes historical county-level population data from the U.S. Census Bureau and computes the total population living within the service territory of each BA. The historical annual populations are then interpolated to an hourly resolution in preparation to use the population data as input to the MLP models."
   ]
  },
  {
   "cell_type": "code",
   "execution_count": null,
   "id": "85bb4ead-6a55-4b42-bc0a-80e849aef2d4",
   "metadata": {},
   "outputs": [],
   "source": [
    "# Set the data input and output directories for the population data processing:\n",
    "pop_input_dir = os.path.join(raw_data_dir, r'Population')\n",
    "map_input_dir = os.path.join(current_dir, r'outputs', r'ba_service_territory')\n",
    "pop_output_dir =  os.path.join(current_dir, r'outputs', r'historical_population')\n",
    "\n",
    "if not os.path.exists(pop_output_dir):\n",
    "   os.makedirs(pop_output_dir)\n"
   ]
  },
  {
   "cell_type": "code",
   "execution_count": null,
   "id": "0c48a208-9fcc-4325-ab1b-cfce623bab7c",
   "metadata": {},
   "outputs": [],
   "source": [
    "# Execute the function to pre-process the historical observed population data:\n",
    "tell.ba_pop_interpolate(map_input_dir, pop_input_dir, pop_output_dir, start_year, end_year)\n"
   ]
  },
  {
   "cell_type": "markdown",
   "id": "726a3913-25ec-4d9f-8544-ecff68e4d467",
   "metadata": {},
   "source": [
    "### 3.4. Process the sample historical and future meteorology data\n",
    "\n",
    "This pre-processing step relies on another pre-packaged sample dataset containing historical and sample future weather data used in `tell`. This sample weather data is also available from a [Zenodo data package](https://zenodo.org/record/6147143#.YhlORRPMJTY). This section of the quickstarter downloads that sample data and then processes the data for input to the MLP models. The historical and future meteorology is based on IM3 simulations using the Weather Research and Forecasting (WRF) model. Meteorological output from WRF is first averaged into county-level mean values and then population-weighted to create an hourly time series of meteorology for each BA in `tell`."
   ]
  },
  {
   "cell_type": "code",
   "execution_count": null,
   "id": "34a9245d-c18b-4a13-8f1d-1933b22fcac6",
   "metadata": {},
   "outputs": [],
   "source": [
    "# Set the data input and output directories for the meteorology data processing:\n",
    "wrf_input_dir = os.path.join(current_dir, r'sample_weather_data')\n",
    "\n",
    "if not os.path.exists(wrf_input_dir):\n",
    "   os.makedirs(wrf_input_dir)\n"
   ]
  },
  {
   "cell_type": "code",
   "execution_count": null,
   "id": "ba953ea1-8e71-4a99-86ba-81b27e4534d6",
   "metadata": {},
   "outputs": [],
   "source": [
    "# Download the sample TELL weather forcing data from the Zenodo data package:\n",
    "tell.install_sample_data(data_dir=wrf_input_dir)\n"
   ]
  },
  {
   "cell_type": "code",
   "execution_count": null,
   "id": "ba7fbf33-7fd3-4536-be53-919daf808784",
   "metadata": {},
   "outputs": [],
   "source": [
    "# Create output directory meteorology data\n",
    "wrf_output_dir =  os.path.join(current_dir, r'outputs', r'historical_meteorology')\n",
    "\n",
    "if not os.path.exists(wrf_output_dir):\n",
    "   os.makedirs(wrf_output_dir)\n"
   ]
  },
  {
   "cell_type": "code",
   "execution_count": null,
   "id": "17766cd0-0067-4713-aecd-04be7bdfe357",
   "metadata": {},
   "outputs": [],
   "source": [
    "# set the target year \n",
    "target_yr = 2019\n"
   ]
  },
  {
   "cell_type": "code",
   "execution_count": null,
   "id": "bbc7b310-7002-41f9-9a4c-8491df54e67b",
   "metadata": {},
   "outputs": [],
   "source": [
    "# Process wrf data to put into right date format\n",
    "tell.process_wrf(wrf_input_dir, wrf_output_dir, target_yr, n_jobs=-1)\n"
   ]
  },
  {
   "cell_type": "markdown",
   "id": "a47f5df8-16d9-400c-acdf-2f0d34b971f2",
   "metadata": {},
   "source": [
    "### 1.4 Compile hourly load, population and meteorology data \n",
    "\n",
    "Here we compile all the data processing steps above for hourly load (EIA 930), population (county FIPS) and meteorology (WRF) to get a final cleaned up dataset to use as an input to the MLP model. "
   ]
  },
  {
   "cell_type": "code",
   "execution_count": null,
   "id": "55ef7700-4eee-4d02-a8f9-a2ecca806943",
   "metadata": {},
   "outputs": [],
   "source": [
    "# create directory to store the compiled data\n",
    "compile_output_dir =  os.path.join(current_dir, r'outputs', r'compiled_data')\n",
    "\n",
    "if not os.path.exists(compile_output_dir):\n",
    "   os.makedirs(compile_output_dir)\n"
   ]
  },
  {
   "cell_type": "code",
   "execution_count": null,
   "id": "2762a650-1304-4004-b5cd-821a72a92385",
   "metadata": {},
   "outputs": [],
   "source": [
    "# set target year for WRF data\n",
    "target_yr = 2019\n"
   ]
  },
  {
   "cell_type": "code",
   "execution_count": null,
   "id": "53f6d6f4-4889-4c76-9375-9f37d365dfb5",
   "metadata": {},
   "outputs": [],
   "source": [
    "# compile the hourly load data, population data, and wrf climate data by date\n",
    "tell.compile_data(eia_930_output_dir, pop_output_dir, wrf_output_dir, target_yr, compile_output_dir)\n"
   ]
  },
  {
   "cell_type": "markdown",
   "id": "4a037554",
   "metadata": {},
   "source": [
    "## 2. Model training and prediction\n",
    "\n",
    "This step takes the data processed and compiled above and runs a multilayer perceptron (MLP) model to predict future hourly load. Start-time is the start-time for analysis, end-time is the end time for analysis and spilt-time is the timestamp splitting train and test data."
   ]
  },
  {
   "cell_type": "code",
   "execution_count": null,
   "id": "ccddc4b8",
   "metadata": {},
   "outputs": [],
   "source": [
    "# create the directory for the mlp output\n",
    "mlp_output_dir =  os.path.join(current_dir, r'outputs', r'mlp_output')\n",
    "\n",
    "if not os.path.exists(mlp_output_dir):\n",
    "   os.makedirs(mlp_output_dir)\n",
    "\n",
    "# specify the parameters of the MLP model\n",
    "batch_run = True\n",
    "target_ba_list = ('AECI', 'SWPP', 'TAL')\n",
    "generate_plots = True\n",
    "start_time = \"2019-01-01 00:00:00\"\n",
    "end_time = \"2019-12-31 23:00:00\"\n",
    "split_time = \"2019-06-01 00:00:00\"\n"
   ]
  },
  {
   "cell_type": "code",
   "execution_count": null,
   "id": "b5ac69fd-6962-4302-ab7f-256d9ad733eb",
   "metadata": {},
   "outputs": [],
   "source": [
    "%%time\n",
    "\n",
    "tell.predict(compile_output_dir ,\n",
    "            mlp_output_dir,\n",
    "            start_time = start_time,\n",
    "            end_time = end_time,\n",
    "            split_time = split_time,\n",
    "            batch_run = batch_run,\n",
    "            target_ba_list = target_ba_list,\n",
    "            generate_plots = generate_plots)\n"
   ]
  },
  {
   "cell_type": "markdown",
   "id": "f9048639",
   "metadata": {},
   "source": [
    "## 3. Model forward execution\n",
    "\n",
    "This script takes the .csv files produced by the TELL MLP model and distributes the predicted load to the counties that each balancing authority (BA) operates in. The county-level hourly loads are then summed to the state-level and scaled to match the state-level annual loads produced by GCAM-USA. Three sets of output files are generated: county-level hourly loads, state-level hourly loads, and hourly loads for each BA. There is one additional summary output file that includes state-level annual loads from TELL and GCAM-USA as well as the scaling factors.\n",
    "\n",
    "Please set the directories below to your local machine preferences and run the tell.execute_forward function. "
   ]
  },
  {
   "cell_type": "code",
   "execution_count": null,
   "id": "04afab9a",
   "metadata": {},
   "outputs": [],
   "source": [
    "# Set the year and GCAM-USA scenario to process:\n",
    "year_to_process = '2020'\n",
    "gcam_usa_scenario = 'scenario_name'\n",
    "\n",
    "# Set the data input and output directories:\n",
    "mlp_input_dir = os.path.join(current_dir, 'outputs', 'mlp_output')\n",
    "ba_geolocation_input_dir = os.path.join(current_dir, 'outputs', 'fips_mapping_files')\n",
    "gcam_usa_input_dir = os.path.join(current_dir, 'raw_data')\n",
    "data_output_dir = os.path.join(current_dir, 'outputs', 'forward_output', year_to_process)\n"
   ]
  },
  {
   "cell_type": "code",
   "execution_count": null,
   "id": "7443cd7d-7ab6-4c54-869c-cff129597983",
   "metadata": {
    "tags": []
   },
   "outputs": [],
   "source": [
    "# Run the MLP model forward in time and\n",
    "tell.execute_forward(year_to_process, \n",
    "                     mlp_input_dir, \n",
    "                     ba_geolocation_input_dir,\n",
    "                     pop_input_dir, \n",
    "                     gcam_usa_input_dir, \n",
    "                     data_output_dir)\n"
   ]
  },
  {
   "cell_type": "markdown",
   "id": "eae90672",
   "metadata": {},
   "source": [
    "## 4. Model visualization\n",
    "\n",
    "Below are a few select model visualizations to check on model performance for select states and BAs "
   ]
  },
  {
   "cell_type": "code",
   "execution_count": null,
   "id": "2a9b55f1",
   "metadata": {},
   "outputs": [],
   "source": [
    "# Set the data input and output directories:\n",
    "data_input_dir = os.path.join(current_dir, 'outputs', 'forward_output')\n",
    "image_output_dir = os.path.join(current_dir, r'outputs', r'image_output')\n",
    "shapefile_input_dir = raw_data_dir\n",
    "\n",
    "# Set the year of TELL output to visualize:\n",
    "year_to_plot = '2020'\n",
    "\n",
    "# Choose whether or not to save the images and set the image resolution:\n",
    "save_images = 0 # (1 = Yes)\n",
    "image_resolution = 150 # (dpi)\n",
    "\n",
    "sample_state = 'California'\n",
    "sample_ba = 'ERCO'\n",
    "\n",
    "# If you want to save the images, check that the image output directory exist and if not then create it:\n",
    "if save_images == 0:\n",
    "   if os.path.exists((image_output_dir + year_to_plot)) == False:\n",
    "      os.mkdir((image_output_dir + year_to_plot))\n"
   ]
  },
  {
   "cell_type": "markdown",
   "id": "dc207feb",
   "metadata": {},
   "source": [
    "### 4.1 Plot a map of the state scaling factors:"
   ]
  },
  {
   "cell_type": "code",
   "execution_count": null,
   "id": "72e0a104",
   "metadata": {},
   "outputs": [],
   "source": [
    "tell.plot_state_scaling_factors(shapefile_input_dir, \n",
    "                                data_input_dir, \n",
    "                                year_to_plot, \n",
    "                                save_images, \n",
    "                                image_resolution,\n",
    "                                image_output_dir)"
   ]
  },
  {
   "cell_type": "markdown",
   "id": "5a5e293f",
   "metadata": {},
   "source": [
    "### 4.2 Plot the state annual total loads from GCAM-USA and TELL:"
   ]
  },
  {
   "cell_type": "code",
   "execution_count": null,
   "id": "f15f7b26",
   "metadata": {},
   "outputs": [],
   "source": [
    "tell.plot_state_annual_total_loads(state_summary_df, \n",
    "                                   year_to_plot, \n",
    "                                   save_images, \n",
    "                                   image_resolution, \n",
    "                                   image_output_dir)\n"
   ]
  },
  {
   "cell_type": "markdown",
   "id": "c6c21d43",
   "metadata": {},
   "source": [
    "###  4.3 Plot the time-series of total hourly loads for a given state by specifying either the state name or FIPS code:"
   ]
  },
  {
   "cell_type": "code",
   "execution_count": null,
   "id": "644a331b",
   "metadata": {},
   "outputs": [],
   "source": [
    "tell.plot_state_load_time_series({state}, \n",
    "                                 state_hourly_load_df, \n",
    "                                 year_to_plot, \n",
    "                                 save_images, \n",
    "                                 image_resolution,\n",
    "                                 image_output_dir)\n"
   ]
  },
  {
   "cell_type": "markdown",
   "id": "c18520f3",
   "metadata": {},
   "source": [
    "### 4.4 Plot the load duration curve for a given state by specifying either the state name or FIPS code:"
   ]
  },
  {
   "cell_type": "code",
   "execution_count": null,
   "id": "449a5878",
   "metadata": {},
   "outputs": [],
   "source": [
    "tell.plot_state_load_duration_curve({state}, \n",
    "                                    state_hourly_load_df, \n",
    "                                    year_to_plot, \n",
    "                                    save_images, \n",
    "                                    image_resolution,\n",
    "                                    image_output_dir)\n"
   ]
  },
  {
   "cell_type": "markdown",
   "id": "0cfc2702",
   "metadata": {},
   "source": [
    "### 4.5 Plot the time-series of total hourly loads for a given BA by specifying either the BA abbreviation or BA number:"
   ]
  },
  {
   "cell_type": "code",
   "execution_count": null,
   "id": "64b5c303-a15e-4c9c-b97a-462f30618328",
   "metadata": {},
   "outputs": [],
   "source": [
    "tell.plot_ba_load_time_series({sample_ba}, \n",
    "                              ba_hourly_load_df, \n",
    "                              year_to_plot, \n",
    "                              save_images, \n",
    "                              image_resolution, \n",
    "                              image_output_dir)\n"
   ]
  }
 ],
 "metadata": {
  "kernelspec": {
   "display_name": "Python 3 (ipykernel)",
   "language": "python",
   "name": "python3"
  },
  "language_info": {
   "codemirror_mode": {
    "name": "ipython",
    "version": 3
   },
   "file_extension": ".py",
   "mimetype": "text/x-python",
   "name": "python",
   "nbconvert_exporter": "python",
   "pygments_lexer": "ipython3",
   "version": "3.9.4"
  }
 },
 "nbformat": 4,
 "nbformat_minor": 5
}

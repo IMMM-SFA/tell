{
 "cells": [
  {
   "cell_type": "markdown",
   "id": "2e343b2f-e0fd-42e8-b41a-6094f8fb6c4e",
   "metadata": {},
   "source": [
    "## Evaluation and Calibration of the Empirical Models in TELL\n",
    "\n",
    "This notebook is meant to be a landing page for exploring the empirical models that underpin `tell`. It will set up the meteorological variables we use and analyze different aspects of the model development and evaluation."
   ]
  },
  {
   "cell_type": "code",
   "execution_count": null,
   "id": "b242f29e-982a-4efb-ad1f-172145688b04",
   "metadata": {},
   "outputs": [],
   "source": [
    "# Start by importing the TELL package and information about your operating system:\n",
    "import os \n",
    "import tell\n",
    "\n",
    "import numpy as np\n",
    "import pandas as pd\n",
    "import matplotlib.pyplot as plt\n",
    "\n",
    "from pandas import DataFrame\n",
    "from glob import glob\n",
    "from datetime import datetime\n"
   ]
  },
  {
   "cell_type": "code",
   "execution_count": null,
   "id": "679f8864-631b-4683-ad39-51639f1d24a9",
   "metadata": {},
   "outputs": [],
   "source": [
    "# Identify the current working directory, the \"tell_data\" directory where the data will is stored, and the image output directory:\n",
    "current_dir =  os.path.join(os.path.dirname(os.getcwd()))\n",
    "tell_data_dir = os.path.join(current_dir, r'tell_data')\n",
    "tell_image_dir = os.path.join(tell_data_dir, r'outputs', r'visualizations')\n"
   ]
  },
  {
   "cell_type": "markdown",
   "id": "4b5a0c62-d668-4182-9b44-60edc9f0f606",
   "metadata": {},
   "source": [
    "### Variable Correlations\n",
    "\n",
    "The first thing we'll look at is the relationship between the predictive variables in `tell` and the historical electricity demand for different Balancing Authorities (BAs). The function below plots the correlation between the different variables in the historical observed data that underpins `tell`. In general, demand is fairly well correlated with most of the meteorological variables, with the strongest dependency being on 2-m air temperature (T2). The stength of the correlations varies significantly from BA-to-BA. Demand in some BAs is closely tied to variations in weather (e.g., NEVP, ERCO, FPL). In more moderate climates (e.g., SCL, BPAT) the relationships are weaker. This pattern is useful for interpreting the performance of the empircal models in `tell`."
   ]
  },
  {
   "cell_type": "code",
   "execution_count": null,
   "id": "9fc6ccc6-dcc5-411a-a4db-6f1924638803",
   "metadata": {},
   "outputs": [],
   "source": [
    "# Plot the correlation between predictive variables in TELL and the historical demand in a given BA. Note that if you set the 'ba_to_plot' variable to \"All\" the function \n",
    "# will compute and plot the average correlation across all BAs:\n",
    "#tell.plot_ba_variable_correlations(ba_to_plot = 'NEVP', \n",
    "                                   #data_input_dir = tell_data_dir,\n",
    "                                   #image_output_dir = tell_image_dir,\n",
    "                                   #image_resolution = 150,\n",
    "                                   #save_images = False)\n"
   ]
  },
  {
   "cell_type": "code",
   "execution_count": null,
   "id": "687c9fb4-b3f3-454f-add1-abdab4de9f72",
   "metadata": {},
   "outputs": [],
   "source": [
    "# Train the empirical models using the standard settings:\n",
    "prediction_df, validation_df = tell.train_batch(target_region_list = (tell.get_balancing_authority_to_model_dict().keys()),\n",
    "                                                data_dir = os.path.join(tell_data_dir, r'outputs', r'compiled_historical_data'),\n",
    "                                                n_jobs = -1)\n",
    "\n",
    "# Run the MLP training step for a single BA (i.e., \"region\"):\n",
    "#prediction_df, validation_df = tell.train(region = 'PJM',\n",
    "                                          #data_dir = os.path.join(tell_data_dir, r'outputs', r'compiled_historical_data'))\n",
    "\n",
    "# View the validation dataframe that contains error statistics for the trained models:\n",
    "validation_df\n"
   ]
  },
  {
   "cell_type": "code",
   "execution_count": null,
   "id": "042dc367-62c4-4e64-8210-2dac98c7edf4",
   "metadata": {},
   "outputs": [],
   "source": [
    "# Plot the statistical performance (e.g., RMS_ABS, RMS_NORM, MAPE, or R2) of the predictive models across all the BAs in TELL:\n",
    "tell.plot_mlp_summary_statistics(validation_df, \n",
    "                                 image_output_dir = tell_image_dir,\n",
    "                                 image_resolution = 150,\n",
    "                                 save_images = True)\n"
   ]
  },
  {
   "cell_type": "code",
   "execution_count": null,
   "id": "8508e877-eb82-48f1-9a62-6f0637751e12",
   "metadata": {},
   "outputs": [],
   "source": []
  },
  {
   "cell_type": "code",
   "execution_count": null,
   "id": "48813f16-0333-40b8-b939-37e2e2b28526",
   "metadata": {},
   "outputs": [],
   "source": []
  }
 ],
 "metadata": {
  "kernelspec": {
   "display_name": "py3.9.4_tell",
   "language": "python",
   "name": "py3.9.4_tell"
  },
  "language_info": {
   "codemirror_mode": {
    "name": "ipython",
    "version": 3
   },
   "file_extension": ".py",
   "mimetype": "text/x-python",
   "name": "python",
   "nbconvert_exporter": "python",
   "pygments_lexer": "ipython3",
   "version": "3.9.4"
  }
 },
 "nbformat": 4,
 "nbformat_minor": 5
}

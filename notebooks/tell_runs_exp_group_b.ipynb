{
 "cells": [
  {
   "cell_type": "markdown",
   "id": "9e071b84",
   "metadata": {
    "pycharm": {
     "name": "#%% md\n"
    }
   },
   "source": [
    "# TELL Runs for IM3's Experiment Group B \n",
    "\n",
    "This notebook executes the initial set of runs of the TELL model for IM3's Experiment Group B."
   ]
  },
  {
   "cell_type": "code",
   "execution_count": 1,
   "id": "86db683a-70a2-4f89-a1d6-4c6d5f180272",
   "metadata": {
    "pycharm": {
     "name": "#%%\n"
    }
   },
   "outputs": [],
   "source": [
    "# Start by importing the TELL package and information about your operating system:\n",
    "import os \n",
    "import tell\n",
    "\n",
    "import pandas as pd\n",
    "import matplotlib.pyplot as plt\n",
    "\n",
    "from tell.package_data import get_ba_abbreviations\n"
   ]
  },
  {
   "cell_type": "markdown",
   "id": "566fce96-4576-4a2d-9db6-4d0be72b3c1d",
   "metadata": {
    "pycharm": {
     "name": "#%% md\n"
    }
   },
   "source": [
    "## Set the Directory Structure"
   ]
  },
  {
   "cell_type": "code",
   "execution_count": 2,
   "id": "f7cc0f66-ba83-47d4-b161-0b1ad076064c",
   "metadata": {
    "pycharm": {
     "name": "#%%\n"
    }
   },
   "outputs": [],
   "source": [
    "# Identify the top-level directory and the subdirectory where the data will be stored:\n",
    "current_dir =  '/Users/burl878/Documents/IMMM/Data/TELL/Production_Runs'\n",
    "tell_data_dir = os.path.join(current_dir, r'tell_data')\n",
    "\n",
    "# If the \"tell_data_dir\" subdirectory doesn't exist then create it:\n",
    "if not os.path.exists(tell_data_dir):\n",
    "   os.makedirs(tell_data_dir)\n"
   ]
  },
  {
   "cell_type": "markdown",
   "id": "4a037554",
   "metadata": {
    "pycharm": {
     "name": "#%% md\n"
    }
   },
   "source": [
    "## Run the MLP Models"
   ]
  },
  {
   "cell_type": "code",
   "execution_count": null,
   "id": "76a6b851-29c9-4a1b-a149-ee341f1af5cd",
   "metadata": {
    "pycharm": {
     "name": "#%%\n"
    }
   },
   "outputs": [],
   "source": [
    "# Generate a list of BA abbreviations to process:\n",
    "ba_abbrev_list = tell.get_balancing_authority_to_model_dict().keys()\n",
    "\n",
    "scenario_to_process = 'historic'\n",
    "\n",
    "# Run the MLP prediction step for the list of BAs using parallel processing streams:\n",
    "for year_to_process in range(1980,2020,1):\n",
    "    pdf = tell.predict_batch(target_region_list = ba_abbrev_list,\n",
    "                             year = year_to_process,\n",
    "                             data_dir = os.path.join(tell_data_dir, r'wrf_to_tell_data', scenario_to_process),\n",
    "                             datetime_field_name = 'Time_UTC',\n",
    "                             save_prediction = True,\n",
    "                             prediction_output_directory = os.path.join(tell_data_dir, r'outputs', r'mlp_output', scenario_to_process),\n",
    "                             n_jobs = -1)\n"
   ]
  },
  {
   "cell_type": "markdown",
   "id": "f9048639",
   "metadata": {
    "pycharm": {
     "name": "#%% md\n"
    }
   },
   "source": [
    "## Run the Forward Execution"
   ]
  },
  {
   "cell_type": "code",
   "execution_count": null,
   "id": "04afab9a",
   "metadata": {
    "pycharm": {
     "name": "#%%\n"
    }
   },
   "outputs": [],
   "source": [
    "# Run the TELL model forward in time:\n",
    "for year in range(2020,2100,1):\n",
    "    summary_df, ba_time_series_df, state_time_series_df = tell.execute_forward(year_to_process = str(year),\n",
    "                                                                               gcam_target_year = str(year), \n",
    "                                                                               scenario_to_process = 'rcp85hotter_ssp5',\n",
    "                                                                               data_output_dir = '/Users/burl878/Documents/IMMM/Data/TELL/Production_Runs/tell_data/outputs/tell_output',\n",
    "                                                                               gcam_usa_input_dir = '/Users/burl878/Documents/IMMM/Data/TELL/Production_Runs/tell_data/gcamusa_data',\n",
    "                                                                               map_input_dir = '/Users/burl878/Documents/IMMM/Data/TELL/Production_Runs/tell_data/ba_service_territory_data',\n",
    "                                                                               mlp_input_dir = '/Users/burl878/Documents/IMMM/Data/TELL/Production_Runs/tell_data/outputs/mlp_output',\n",
    "                                                                               pop_input_dir = '/Users/burl878/Documents/IMMM/Data/TELL/Production_Runs/tell_data/population_data',\n",
    "                                                                               save_county_data = False)\n"
   ]
  },
  {
   "cell_type": "code",
   "execution_count": 4,
   "id": "691e09bf-ed09-471a-8bfc-eb5918ec44f4",
   "metadata": {},
   "outputs": [
    {
     "name": "stdout",
     "output_type": "stream",
     "text": [
      "Start time =  2023-06-16 13:23:59.866769\n",
      "End time =  2023-06-16 13:25:11.281379\n",
      "Elapsed time =  0:01:11.414718\n",
      "Start time =  2023-06-16 13:25:11.667312\n",
      "End time =  2023-06-16 13:26:21.630292\n",
      "Elapsed time =  0:01:09.963081\n",
      "Start time =  2023-06-16 13:26:21.995293\n",
      "End time =  2023-06-16 13:27:33.582060\n",
      "Elapsed time =  0:01:11.586867\n",
      "Start time =  2023-06-16 13:27:33.950445\n",
      "End time =  2023-06-16 13:28:45.037910\n",
      "Elapsed time =  0:01:11.087562\n",
      "Start time =  2023-06-16 13:28:45.426516\n",
      "End time =  2023-06-16 13:29:58.409585\n",
      "Elapsed time =  0:01:12.983176\n",
      "Start time =  2023-06-16 13:29:58.776128\n",
      "End time =  2023-06-16 13:31:11.356304\n",
      "Elapsed time =  0:01:12.580273\n",
      "Start time =  2023-06-16 13:31:11.725739\n",
      "End time =  2023-06-16 13:32:23.154862\n",
      "Elapsed time =  0:01:11.429229\n",
      "Start time =  2023-06-16 13:32:23.519285\n",
      "End time =  2023-06-16 13:33:35.943405\n",
      "Elapsed time =  0:01:12.424218\n",
      "Start time =  2023-06-16 13:33:36.312852\n",
      "End time =  2023-06-16 13:34:48.789074\n",
      "Elapsed time =  0:01:12.476314\n",
      "Start time =  2023-06-16 13:34:49.159168\n",
      "End time =  2023-06-16 13:36:00.420478\n",
      "Elapsed time =  0:01:11.261413\n",
      "Start time =  2023-06-16 13:36:00.794201\n",
      "End time =  2023-06-16 13:37:14.404470\n",
      "Elapsed time =  0:01:13.610381\n",
      "Start time =  2023-06-16 13:37:14.782965\n",
      "End time =  2023-06-16 13:38:28.107592\n",
      "Elapsed time =  0:01:13.325299\n",
      "Start time =  2023-06-16 13:38:28.493203\n",
      "End time =  2023-06-16 13:39:42.713239\n",
      "Elapsed time =  0:01:14.220135\n",
      "Start time =  2023-06-16 13:39:43.097708\n",
      "End time =  2023-06-16 13:40:55.077620\n",
      "Elapsed time =  0:01:11.980014\n",
      "Start time =  2023-06-16 13:40:55.449136\n",
      "End time =  2023-06-16 13:42:06.685120\n",
      "Elapsed time =  0:01:11.236086\n",
      "Start time =  2023-06-16 13:42:07.042348\n",
      "End time =  2023-06-16 13:43:18.572055\n",
      "Elapsed time =  0:01:11.530498\n",
      "Start time =  2023-06-16 13:43:18.945172\n",
      "End time =  2023-06-16 13:44:31.229146\n",
      "Elapsed time =  0:01:12.284072\n",
      "Start time =  2023-06-16 13:44:31.619034\n",
      "End time =  2023-06-16 13:45:43.975752\n",
      "Elapsed time =  0:01:12.356818\n",
      "Start time =  2023-06-16 13:45:44.342296\n",
      "End time =  2023-06-16 13:46:55.252101\n",
      "Elapsed time =  0:01:10.909902\n",
      "Start time =  2023-06-16 13:46:55.603087\n",
      "End time =  2023-06-16 13:48:06.336894\n",
      "Elapsed time =  0:01:10.733925\n",
      "Start time =  2023-06-16 13:48:06.698046\n",
      "End time =  2023-06-16 13:49:18.527712\n",
      "Elapsed time =  0:01:11.829768\n",
      "Start time =  2023-06-16 13:49:18.898877\n",
      "End time =  2023-06-16 13:50:30.844744\n",
      "Elapsed time =  0:01:11.945976\n",
      "Start time =  2023-06-16 13:50:31.209563\n",
      "End time =  2023-06-16 13:51:44.501269\n",
      "Elapsed time =  0:01:13.291788\n",
      "Start time =  2023-06-16 13:51:44.886268\n",
      "End time =  2023-06-16 13:52:58.251793\n",
      "Elapsed time =  0:01:13.365621\n",
      "Start time =  2023-06-16 13:52:58.635284\n",
      "End time =  2023-06-16 13:54:11.460312\n",
      "Elapsed time =  0:01:12.825115\n",
      "Start time =  2023-06-16 13:54:11.838786\n",
      "End time =  2023-06-16 13:55:24.440061\n",
      "Elapsed time =  0:01:12.601362\n",
      "Start time =  2023-06-16 13:55:24.831704\n",
      "End time =  2023-06-16 13:56:37.930438\n",
      "Elapsed time =  0:01:13.098848\n",
      "Start time =  2023-06-16 13:56:38.314737\n",
      "End time =  2023-06-16 13:57:49.950727\n",
      "Elapsed time =  0:01:11.636079\n",
      "Start time =  2023-06-16 13:57:50.314879\n",
      "End time =  2023-06-16 13:59:02.784513\n",
      "Elapsed time =  0:01:12.469721\n",
      "Start time =  2023-06-16 13:59:03.160252\n",
      "End time =  2023-06-16 14:00:15.148410\n",
      "Elapsed time =  0:01:11.988248\n",
      "Start time =  2023-06-16 14:00:15.511050\n",
      "End time =  2023-06-16 14:01:27.753191\n",
      "Elapsed time =  0:01:12.242248\n",
      "Start time =  2023-06-16 14:01:28.141983\n",
      "End time =  2023-06-16 14:02:40.515015\n",
      "Elapsed time =  0:01:12.373325\n",
      "Start time =  2023-06-16 14:02:40.875813\n",
      "End time =  2023-06-16 14:03:52.985716\n",
      "Elapsed time =  0:01:12.109991\n",
      "Start time =  2023-06-16 14:03:53.352657\n",
      "End time =  2023-06-16 14:05:04.925582\n",
      "Elapsed time =  0:01:11.573029\n",
      "Start time =  2023-06-16 14:05:05.298039\n",
      "End time =  2023-06-16 14:06:16.963489\n",
      "Elapsed time =  0:01:11.665558\n",
      "Start time =  2023-06-16 14:06:17.314933\n",
      "End time =  2023-06-16 14:07:28.749464\n",
      "Elapsed time =  0:01:11.434631\n",
      "Start time =  2023-06-16 14:07:29.116657\n",
      "End time =  2023-06-16 14:08:41.870112\n",
      "Elapsed time =  0:01:12.753570\n",
      "Start time =  2023-06-16 14:08:42.235274\n",
      "End time =  2023-06-16 14:09:53.405047\n",
      "Elapsed time =  0:01:11.169880\n",
      "Start time =  2023-06-16 14:09:53.779490\n",
      "End time =  2023-06-16 14:11:05.247216\n",
      "Elapsed time =  0:01:11.467832\n",
      "Start time =  2023-06-16 14:11:05.616490\n",
      "End time =  2023-06-16 14:12:17.071094\n",
      "Elapsed time =  0:01:11.454712\n"
     ]
    }
   ],
   "source": [
    "# Run the TELL model forward in time:\n",
    "for year in range(2020,2060,1):\n",
    "    summary_df, ba_time_series_df, state_time_series_df = tell.execute_forward(year_to_process = str(year),\n",
    "                                                                               gcam_target_year = '2035', \n",
    "                                                                               scenario_to_process = 'rcp85hotter_ssp5',\n",
    "                                                                               data_output_dir = '/Users/burl878/Documents/GODEEEP/Data/TELL/Scenario_Blast',\n",
    "                                                                               gcam_usa_input_dir = '/Users/burl878/Documents/IMMM/Data/TELL/Production_Runs/tell_data/gcamusa_data',\n",
    "                                                                               map_input_dir = '/Users/burl878/Documents/IMMM/Data/TELL/Production_Runs/tell_data/ba_service_territory_data',\n",
    "                                                                               mlp_input_dir = '/Users/burl878/Documents/IMMM/Data/TELL/Production_Runs/tell_data/outputs/mlp_output',\n",
    "                                                                               pop_input_dir = '/Users/burl878/Documents/IMMM/Data/TELL/Production_Runs/tell_data/population_data',\n",
    "                                                                               save_county_data = False)\n"
   ]
  },
  {
   "cell_type": "code",
   "execution_count": null,
   "id": "180fed5e-d89d-4815-b2c5-64f45d68095f",
   "metadata": {},
   "outputs": [],
   "source": []
  }
 ],
 "metadata": {
  "kernelspec": {
   "display_name": "py3.9.15_std",
   "language": "python",
   "name": "py3.9.15_std"
  },
  "language_info": {
   "codemirror_mode": {
    "name": "ipython",
    "version": 3
   },
   "file_extension": ".py",
   "mimetype": "text/x-python",
   "name": "python",
   "nbconvert_exporter": "python",
   "pygments_lexer": "ipython3",
   "version": "3.9.15"
  }
 },
 "nbformat": 4,
 "nbformat_minor": 5
}

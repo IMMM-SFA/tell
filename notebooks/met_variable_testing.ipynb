{
 "cells": [
  {
   "cell_type": "code",
   "execution_count": null,
   "id": "d08d92e4-aa18-4786-90f9-53b65f029feb",
   "metadata": {},
   "outputs": [],
   "source": [
    "import pandas as pd\n",
    "\n",
    "import matplotlib.pyplot as plt\n"
   ]
  },
  {
   "cell_type": "code",
   "execution_count": null,
   "id": "c3a12533-3922-415e-bc3e-13bc6b4d6db6",
   "metadata": {},
   "outputs": [],
   "source": [
    "ba_to_plot = 'NYIS'\n",
    "\n",
    "base_data_dir = '/Users/burl878/Documents/tell/tell/tell_data/outputs/compiled_historical_data/'\n",
    "future_data_dir = '/Users/burl878/Documents/tell/tell/tell_data/sample_forcing_data/future_weather/rcp85hotter_ssp5/'"
   ]
  },
  {
   "cell_type": "code",
   "execution_count": null,
   "id": "bbac6b6b-ba89-4e7d-b3f7-afb1b8d5f654",
   "metadata": {},
   "outputs": [],
   "source": [
    "historical_df = pd.read_csv(base_data_dir + ba_to_plot + '_historical_data.csv')\n",
    "\n",
    "historical_df\n"
   ]
  },
  {
   "cell_type": "code",
   "execution_count": null,
   "id": "ec99d6eb-af61-4177-bdef-f653ca58780d",
   "metadata": {},
   "outputs": [],
   "source": [
    "future_2039_df = pd.read_csv(future_data_dir + ba_to_plot + '_WRF_Hourly_Mean_Meteorology_2039.csv')\n",
    "future_2059_df = pd.read_csv(future_data_dir + ba_to_plot + '_WRF_Hourly_Mean_Meteorology_2059.csv')\n",
    "future_2079_df = pd.read_csv(future_data_dir + ba_to_plot + '_WRF_Hourly_Mean_Meteorology_2079.csv')\n",
    "future_2099_df = pd.read_csv(future_data_dir + ba_to_plot + '_WRF_Hourly_Mean_Meteorology_2099.csv')\n",
    "\n",
    "future_2039_df\n"
   ]
  },
  {
   "cell_type": "code",
   "execution_count": null,
   "id": "65f78423-f363-48bc-b45a-06b4df33fb69",
   "metadata": {},
   "outputs": [],
   "source": [
    "plt.figure(figsize=(25, 10))\n",
    "\n",
    "plt.subplot(321)\n",
    "plt.hist(historical_df['T2'], bins=40, density=True, histtype='step', edgecolor = 'k', label='Historical', linewidth=3)\n",
    "plt.hist(future_2039_df['T2'], bins=40, density=True, histtype='step', edgecolor = 'r', label='2039', linewidth=3)\n",
    "plt.hist(future_2059_df['T2'], bins=40, density=True, histtype='step', edgecolor = 'b', label='2059', linewidth=3)\n",
    "plt.hist(future_2079_df['T2'], bins=40, density=True, histtype='step', edgecolor = 'g', label='2079', linewidth=3)\n",
    "plt.hist(future_2099_df['T2'], bins=40, density=True, histtype='step', edgecolor = 'y', label='2099', linewidth=3)\n",
    "plt.legend()\n",
    "plt.xlabel('T2 [K]')\n",
    "plt.ylabel('Frequency')\n",
    "plt.title('T2 Distribution in ' + ba_to_plot)\n",
    "\n",
    "plt.subplot(322)\n",
    "plt.hist(historical_df['Q2'], bins=40, density=True, histtype='step', edgecolor = 'k', label='Historical', linewidth=3)\n",
    "plt.hist(future_2039_df['Q2'], bins=40, density=True, histtype='step', edgecolor = 'r', label='2039', linewidth=3)\n",
    "plt.hist(future_2059_df['Q2'], bins=40, density=True, histtype='step', edgecolor = 'b', label='2059', linewidth=3)\n",
    "plt.hist(future_2079_df['Q2'], bins=40, density=True, histtype='step', edgecolor = 'g', label='2079', linewidth=3)\n",
    "plt.hist(future_2099_df['Q2'], bins=40, density=True, histtype='step', edgecolor = 'y', label='2099', linewidth=3)\n",
    "plt.legend()\n",
    "plt.xlabel('Q2 [kg/kg]')\n",
    "plt.ylabel('Frequency')\n",
    "plt.title('Q2 Distribution in ' + ba_to_plot)\n",
    "\n",
    "plt.subplot(323)\n",
    "plt.hist(historical_df['SWDOWN'], bins=40, density=True, histtype='step', edgecolor = 'k', label='Historical', linewidth=3)\n",
    "plt.hist(future_2039_df['SWDOWN'], bins=40, density=True, histtype='step', edgecolor = 'r', label='2039', linewidth=3)\n",
    "plt.hist(future_2059_df['SWDOWN'], bins=40, density=True, histtype='step', edgecolor = 'b', label='2059', linewidth=3)\n",
    "plt.hist(future_2079_df['SWDOWN'], bins=40, density=True, histtype='step', edgecolor = 'g', label='2079', linewidth=3)\n",
    "plt.hist(future_2099_df['SWDOWN'], bins=40, density=True, histtype='step', edgecolor = 'y', label='2099', linewidth=3)\n",
    "plt.legend()\n",
    "plt.xlabel('SWDOWN [W/m^2]')\n",
    "plt.ylabel('Frequency')\n",
    "plt.title('SWDOWN Distribution in ' + ba_to_plot)\n",
    "\n",
    "plt.subplot(324)\n",
    "plt.hist(historical_df['GLW'], bins=40, density=True, histtype='step', edgecolor = 'k', label='Historical', linewidth=3)\n",
    "plt.hist(future_2039_df['GLW'], bins=40, density=True, histtype='step', edgecolor = 'r', label='2039', linewidth=3)\n",
    "plt.hist(future_2059_df['GLW'], bins=40, density=True, histtype='step', edgecolor = 'b', label='2059', linewidth=3)\n",
    "plt.hist(future_2079_df['GLW'], bins=40, density=True, histtype='step', edgecolor = 'g', label='2079', linewidth=3)\n",
    "plt.hist(future_2099_df['GLW'], bins=40, density=True, histtype='step', edgecolor = 'y', label='2099', linewidth=3)\n",
    "plt.legend()\n",
    "plt.xlabel('GLW [W/m^2]')\n",
    "plt.ylabel('Frequency')\n",
    "plt.title('GLW Distribution in ' + ba_to_plot)\n",
    "\n",
    "plt.subplot(325)\n",
    "plt.hist(historical_df['WSPD'], bins=40, density=True, histtype='step', edgecolor = 'k', label='Historical', linewidth=3)\n",
    "plt.hist(future_2039_df['WSPD'], bins=40, density=True, histtype='step', edgecolor = 'r', label='2039', linewidth=3)\n",
    "plt.hist(future_2059_df['WSPD'], bins=40, density=True, histtype='step', edgecolor = 'b', label='2059', linewidth=3)\n",
    "plt.hist(future_2079_df['WSPD'], bins=40, density=True, histtype='step', edgecolor = 'g', label='2079', linewidth=3)\n",
    "plt.hist(future_2099_df['WSPD'], bins=40, density=True, histtype='step', edgecolor = 'y', label='2099', linewidth=3)\n",
    "plt.legend()\n",
    "plt.xlabel('WSPD [m/s]')\n",
    "plt.ylabel('Frequency')\n",
    "plt.title('WSPD Distribution in ' + ba_to_plot)\n",
    "\n",
    "plt.subplot(326)\n",
    "plt.hist(historical_df['Total_Population'], bins=1, density=True, histtype='step', edgecolor = 'k', label='Historical', linewidth=3)\n",
    "plt.hist(future_2039_df['Population'], bins=1, density=True, histtype='step', edgecolor = 'r', label='2039', linewidth=3)\n",
    "plt.hist(future_2059_df['Population'], bins=1, density=True, histtype='step', edgecolor = 'b', label='2059', linewidth=3)\n",
    "plt.hist(future_2079_df['Population'], bins=1, density=True, histtype='step', edgecolor = 'g', label='2079', linewidth=3)\n",
    "plt.hist(future_2099_df['Population'], bins=1, density=True, histtype='step', edgecolor = 'y', label='2099', linewidth=3)\n",
    "plt.legend()\n",
    "plt.xlabel('Population')\n",
    "plt.ylabel('Frequency')\n",
    "plt.title('Population Distribution in ' + ba_to_plot)\n",
    "\n",
    "plt.subplots_adjust(wspace=0.15, hspace=0.4)"
   ]
  },
  {
   "cell_type": "code",
   "execution_count": null,
   "id": "bdb17fce-4a85-4eca-90cf-52d7e46e1bb7",
   "metadata": {},
   "outputs": [],
   "source": []
  }
 ],
 "metadata": {
  "kernelspec": {
   "display_name": "py3.9.4_tell",
   "language": "python",
   "name": "py3.9.4_tell"
  },
  "language_info": {
   "codemirror_mode": {
    "name": "ipython",
    "version": 3
   },
   "file_extension": ".py",
   "mimetype": "text/x-python",
   "name": "python",
   "nbconvert_exporter": "python",
   "pygments_lexer": "ipython3",
   "version": "3.9.4"
  }
 },
 "nbformat": 4,
 "nbformat_minor": 5
}
